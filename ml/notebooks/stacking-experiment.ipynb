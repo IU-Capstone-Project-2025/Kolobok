{
 "cells": [
  {
   "cell_type": "code",
   "execution_count": 17,
   "metadata": {
    "_cell_guid": "b1076dfc-b9ad-4769-8c92-a6c4dae69d19",
    "_uuid": "8f2839f25d086af736a60e9eeb907d3b93b6e0e5",
    "execution": {
     "iopub.execute_input": "2025-06-26T18:41:54.615277Z",
     "iopub.status.busy": "2025-06-26T18:41:54.614883Z",
     "iopub.status.idle": "2025-06-26T18:41:54.702506Z",
     "shell.execute_reply": "2025-06-26T18:41:54.701038Z",
     "shell.execute_reply.started": "2025-06-26T18:41:54.615254Z"
    },
    "trusted": true
   },
   "outputs": [
    {
     "data": {
      "text/html": "<style>#sk-container-id-3 {color: black;background-color: white;}#sk-container-id-3 pre{padding: 0;}#sk-container-id-3 div.sk-toggleable {background-color: white;}#sk-container-id-3 label.sk-toggleable__label {cursor: pointer;display: block;width: 100%;margin-bottom: 0;padding: 0.3em;box-sizing: border-box;text-align: center;}#sk-container-id-3 label.sk-toggleable__label-arrow:before {content: \"▸\";float: left;margin-right: 0.25em;color: #696969;}#sk-container-id-3 label.sk-toggleable__label-arrow:hover:before {color: black;}#sk-container-id-3 div.sk-estimator:hover label.sk-toggleable__label-arrow:before {color: black;}#sk-container-id-3 div.sk-toggleable__content {max-height: 0;max-width: 0;overflow: hidden;text-align: left;background-color: #f0f8ff;}#sk-container-id-3 div.sk-toggleable__content pre {margin: 0.2em;color: black;border-radius: 0.25em;background-color: #f0f8ff;}#sk-container-id-3 input.sk-toggleable__control:checked~div.sk-toggleable__content {max-height: 200px;max-width: 100%;overflow: auto;}#sk-container-id-3 input.sk-toggleable__control:checked~label.sk-toggleable__label-arrow:before {content: \"▾\";}#sk-container-id-3 div.sk-estimator input.sk-toggleable__control:checked~label.sk-toggleable__label {background-color: #d4ebff;}#sk-container-id-3 div.sk-label input.sk-toggleable__control:checked~label.sk-toggleable__label {background-color: #d4ebff;}#sk-container-id-3 input.sk-hidden--visually {border: 0;clip: rect(1px 1px 1px 1px);clip: rect(1px, 1px, 1px, 1px);height: 1px;margin: -1px;overflow: hidden;padding: 0;position: absolute;width: 1px;}#sk-container-id-3 div.sk-estimator {font-family: monospace;background-color: #f0f8ff;border: 1px dotted black;border-radius: 0.25em;box-sizing: border-box;margin-bottom: 0.5em;}#sk-container-id-3 div.sk-estimator:hover {background-color: #d4ebff;}#sk-container-id-3 div.sk-parallel-item::after {content: \"\";width: 100%;border-bottom: 1px solid gray;flex-grow: 1;}#sk-container-id-3 div.sk-label:hover label.sk-toggleable__label {background-color: #d4ebff;}#sk-container-id-3 div.sk-serial::before {content: \"\";position: absolute;border-left: 1px solid gray;box-sizing: border-box;top: 0;bottom: 0;left: 50%;z-index: 0;}#sk-container-id-3 div.sk-serial {display: flex;flex-direction: column;align-items: center;background-color: white;padding-right: 0.2em;padding-left: 0.2em;position: relative;}#sk-container-id-3 div.sk-item {position: relative;z-index: 1;}#sk-container-id-3 div.sk-parallel {display: flex;align-items: stretch;justify-content: center;background-color: white;position: relative;}#sk-container-id-3 div.sk-item::before, #sk-container-id-3 div.sk-parallel-item::before {content: \"\";position: absolute;border-left: 1px solid gray;box-sizing: border-box;top: 0;bottom: 0;left: 50%;z-index: -1;}#sk-container-id-3 div.sk-parallel-item {display: flex;flex-direction: column;z-index: 1;position: relative;background-color: white;}#sk-container-id-3 div.sk-parallel-item:first-child::after {align-self: flex-end;width: 50%;}#sk-container-id-3 div.sk-parallel-item:last-child::after {align-self: flex-start;width: 50%;}#sk-container-id-3 div.sk-parallel-item:only-child::after {width: 0;}#sk-container-id-3 div.sk-dashed-wrapped {border: 1px dashed gray;margin: 0 0.4em 0.5em 0.4em;box-sizing: border-box;padding-bottom: 0.4em;background-color: white;}#sk-container-id-3 div.sk-label label {font-family: monospace;font-weight: bold;display: inline-block;line-height: 1.2em;}#sk-container-id-3 div.sk-label-container {text-align: center;}#sk-container-id-3 div.sk-container {/* jupyter's `normalize.less` sets `[hidden] { display: none; }` but bootstrap.min.css set `[hidden] { display: none !important; }` so we also need the `!important` here to be able to override the default hidden behavior on the sphinx rendered scikit-learn.org. See: https://github.com/scikit-learn/scikit-learn/issues/21755 */display: inline-block !important;position: relative;}#sk-container-id-3 div.sk-text-repr-fallback {display: none;}</style><div id=\"sk-container-id-3\" class=\"sk-top-container\"><div class=\"sk-text-repr-fallback\"><pre>XGBRegressor(base_score=None, booster=None, callbacks=None,\n             colsample_bylevel=None, colsample_bynode=None,\n             colsample_bytree=None, device=None, early_stopping_rounds=None,\n             enable_categorical=False, eval_metric=None, feature_types=None,\n             gamma=None, grow_policy=None, importance_type=None,\n             interaction_constraints=None, learning_rate=0.1, max_bin=None,\n             max_cat_threshold=None, max_cat_to_onehot=None,\n             max_delta_step=None, max_depth=3, max_leaves=None,\n             min_child_weight=None, missing=nan, monotone_constraints=None,\n             multi_strategy=None, n_estimators=100, n_jobs=None,\n             num_parallel_tree=None, random_state=42, ...)</pre><b>In a Jupyter environment, please rerun this cell to show the HTML representation or trust the notebook. <br />On GitHub, the HTML representation is unable to render, please try loading this page with nbviewer.org.</b></div><div class=\"sk-container\" hidden><div class=\"sk-item\"><div class=\"sk-estimator sk-toggleable\"><input class=\"sk-toggleable__control sk-hidden--visually\" id=\"sk-estimator-id-3\" type=\"checkbox\" checked><label for=\"sk-estimator-id-3\" class=\"sk-toggleable__label sk-toggleable__label-arrow\">XGBRegressor</label><div class=\"sk-toggleable__content\"><pre>XGBRegressor(base_score=None, booster=None, callbacks=None,\n             colsample_bylevel=None, colsample_bynode=None,\n             colsample_bytree=None, device=None, early_stopping_rounds=None,\n             enable_categorical=False, eval_metric=None, feature_types=None,\n             gamma=None, grow_policy=None, importance_type=None,\n             interaction_constraints=None, learning_rate=0.1, max_bin=None,\n             max_cat_threshold=None, max_cat_to_onehot=None,\n             max_delta_step=None, max_depth=3, max_leaves=None,\n             min_child_weight=None, missing=nan, monotone_constraints=None,\n             multi_strategy=None, n_estimators=100, n_jobs=None,\n             num_parallel_tree=None, random_state=42, ...)</pre></div></div></div></div></div>",
      "text/plain": "XGBRegressor(base_score=None, booster=None, callbacks=None,\n             colsample_bylevel=None, colsample_bynode=None,\n             colsample_bytree=None, device=None, early_stopping_rounds=None,\n             enable_categorical=False, eval_metric=None, feature_types=None,\n             gamma=None, grow_policy=None, importance_type=None,\n             interaction_constraints=None, learning_rate=0.1, max_bin=None,\n             max_cat_threshold=None, max_cat_to_onehot=None,\n             max_delta_step=None, max_depth=3, max_leaves=None,\n             min_child_weight=None, missing=nan, monotone_constraints=None,\n             multi_strategy=None, n_estimators=100, n_jobs=None,\n             num_parallel_tree=None, random_state=42, ...)"
     },
     "execution_count": 17,
     "metadata": {},
     "output_type": "execute_result"
    }
   ],
   "source": [
    "import pandas as pd\n",
    "import re\n",
    "from sklearn.model_selection import train_test_split\n",
    "import xgboost as xgb\n",
    "from sklearn.metrics import mean_squared_error  # or accuracy_score for classification\n",
    "\n",
    "# 1) Read in your CSV\n",
    "df = pd.read_csv(\"stacking_train.csv\")\n",
    "\n",
    "\n",
    "def parse_label(x):\n",
    "    # x might be something like \"tensor([6.4000], dtype=torch.float64)\"\n",
    "    # or a tuple string \"(tensor([6.4000], dtype=...),4)\"\n",
    "    # We'll just grab the last floating‐point number in the string.\n",
    "    nums = re.findall(r\"[\\d\\.]+\", str(x))\n",
    "    # assume the true label is the last number\n",
    "    return float(nums[0])\n",
    "\n",
    "\n",
    "df[\"image_label\"] = df[\"image_label\"].apply(parse_label)\n",
    "\n",
    "# 2) Pivot so each model’s prediction becomes its own column\n",
    "wide = df.pivot(\n",
    "    index=\"image_name\",  # one row per image\n",
    "    columns=\"weight_file\",  # one column per base model\n",
    "    values=\"output\",  # the model’s numeric output\n",
    ").reset_index()\n",
    "\n",
    "# 3) Bring the ground-truth label back in\n",
    "#    (assuming you also stored `image_label` in your long DataFrame)\n",
    "labels = (\n",
    "    df[[\"image_name\", \"image_label\"]]\n",
    "    .drop_duplicates(subset=\"image_name\")\n",
    "    .set_index(\"image_name\")\n",
    ")\n",
    "wide = wide.set_index(\"image_name\").join(labels).reset_index()\n",
    "\n",
    "# 4) Prepare X, y\n",
    "X = wide.drop([\"image_name\", \"image_label\"], axis=1)\n",
    "y = wide[\"image_label\"]\n",
    "\n",
    "# 6) Fit an XGBoost meta-model\n",
    "#    (choose XGBRegressor if it’s a regression task; XGBClassifier if classification)\n",
    "meta_model = xgb.XGBRegressor(\n",
    "    n_estimators=100, max_depth=3, learning_rate=0.1, random_state=42\n",
    ")\n",
    "meta_model.fit(X, y)\n",
    "\n",
    "# # 7) Evaluate\n",
    "# y_pred = meta_model.predict(X_val)\n",
    "# rmse = mean_squared_error(y_val, y_pred, squared=False)\n",
    "# print(f\"Validation RMSE: {rmse:.4f}\")\n",
    "\n",
    "# # 8) (Optional) Retrain on the full dataset\n",
    "# meta_model.fit(X, y)\n",
    "\n",
    "# # 9) Save your trained meta-model for later\n",
    "# import joblib\n",
    "# joblib.dump(meta_model, \"xgb_stacker.joblib\")"
   ]
  },
  {
   "cell_type": "code",
   "execution_count": 20,
   "metadata": {
    "execution": {
     "iopub.execute_input": "2025-06-26T18:46:01.905629Z",
     "iopub.status.busy": "2025-06-26T18:46:01.904795Z",
     "iopub.status.idle": "2025-06-26T18:46:01.936200Z",
     "shell.execute_reply": "2025-06-26T18:46:01.934497Z",
     "shell.execute_reply.started": "2025-06-26T18:46:01.905598Z"
    },
    "trusted": true
   },
   "outputs": [
    {
     "name": "stdout",
     "output_type": "stream",
     "text": "Fraction of predictions with |error| ≤ 1: 0.838\n"
    }
   ],
   "source": [
    "import numpy as np\n",
    "\n",
    "df_val = pd.read_csv(\"stacking_val.csv\")\n",
    "\n",
    "\n",
    "def parse_label(x):\n",
    "    # x might be something like \"tensor([6.4000], dtype=torch.float64)\"\n",
    "    # or a tuple string \"(tensor([6.4000], dtype=...),4)\"\n",
    "    # We'll just grab the last floating‐point number in the string.\n",
    "    nums = re.findall(r\"[\\d\\.]+\", str(x))\n",
    "    # assume the true label is the last number\n",
    "    return float(nums[0])\n",
    "\n",
    "\n",
    "df_val[\"image_label\"] = df_val[\"image_label\"].apply(parse_label)\n",
    "\n",
    "# 2) Pivot so each model’s prediction becomes its own column\n",
    "wide = df_val.pivot(\n",
    "    index=\"image_name\",  # one row per image\n",
    "    columns=\"weight_file\",  # one column per base model\n",
    "    values=\"output\",  # the model’s numeric output\n",
    ").reset_index()\n",
    "\n",
    "# 3) Bring the ground-truth label back in\n",
    "#    (assuming you also stored `image_label` in your long DataFrame)\n",
    "labels = (\n",
    "    df_val[[\"image_name\", \"image_label\"]]\n",
    "    .drop_duplicates(subset=\"image_name\")\n",
    "    .set_index(\"image_name\")\n",
    ")\n",
    "wide = wide.set_index(\"image_name\").join(labels).reset_index()\n",
    "\n",
    "# 4) Prepare X, y\n",
    "X_val = wide.drop([\"image_name\", \"image_label\"], axis=1)\n",
    "y_val = wide[\"image_label\"]\n",
    "\n",
    "y_pred = meta_model.predict(X_val)\n",
    "\n",
    "errors = abs(y_val - y_pred)\n",
    "fraction_within_1 = np.mean(errors <= 1)\n",
    "print(f\"Fraction of predictions with |error| ≤ 1: {fraction_within_1:.3f}\")"
   ]
  }
 ],
 "metadata": {
  "kaggle": {
   "accelerator": "none",
   "dataSources": [
    {
     "datasetId": 7749390,
     "sourceId": 12295197,
     "sourceType": "datasetVersion"
    }
   ],
   "dockerImageVersionId": 31040,
   "isGpuEnabled": false,
   "isInternetEnabled": true,
   "language": "python",
   "sourceType": "notebook"
  },
  "kernelspec": {
   "display_name": "Python 3",
   "language": "python",
   "name": "python3"
  },
  "language_info": {
   "codemirror_mode": {
    "name": "ipython",
    "version": 3
   },
   "file_extension": ".py",
   "mimetype": "text/x-python",
   "name": "python",
   "nbconvert_exporter": "python",
   "pygments_lexer": "ipython3",
   "version": "3.11.11"
  }
 },
 "nbformat": 4,
 "nbformat_minor": 4
}